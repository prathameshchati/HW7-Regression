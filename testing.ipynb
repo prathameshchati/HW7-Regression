{
 "cells": [
  {
   "cell_type": "code",
   "execution_count": 1,
   "metadata": {},
   "outputs": [
    {
     "name": "stderr",
     "output_type": "stream",
     "text": [
      "C:\\Users\\chati\\AppData\\Local\\Temp\\ipykernel_47968\\2194538674.py:2: DeprecationWarning: \n",
      "Pyarrow will become a required dependency of pandas in the next major release of pandas (pandas 3.0),\n",
      "(to allow more performant data types, such as the Arrow string type, and better interoperability with other libraries)\n",
      "but was not found to be installed on your system.\n",
      "If this would cause problems for you,\n",
      "please provide us feedback at https://github.com/pandas-dev/pandas/issues/54466\n",
      "        \n",
      "  import pandas as pd\n"
     ]
    }
   ],
   "source": [
    "import numpy as np\n",
    "import pandas as pd\n",
    "from collections import Counter\n",
    "from regression import (logreg, utils)\n",
    "from sklearn.preprocessing import StandardScaler"
   ]
  },
  {
   "cell_type": "code",
   "execution_count": 2,
   "metadata": {},
   "outputs": [],
   "source": [
    "num_feats=6\n",
    "W = np.random.randn(num_feats + 1).flatten()"
   ]
  },
  {
   "cell_type": "code",
   "execution_count": 3,
   "metadata": {},
   "outputs": [],
   "source": [
    "def sigmoid(x, b0, b1):\n",
    "    z=b0 + b1*x\n",
    "    return 1/(1+np.exp(-z))\n",
    "\n",
    "def sigmoid_reformat(x, b0, b1):\n",
    "    z=b0 + b1*x\n",
    "    return np.exp(z)/(1+np.exp(z))\n",
    "\n",
    "def simple_sigmoid(z):\n",
    "    return 1/(1+np.exp(-z))\n",
    "\n",
    "# takes in matrix of features where rows represent samples and columns represent features and computes the sigmoidal output for each (probability of each sample)\n",
    "def multivar_sigmoid(X, W):\n",
    "    px=[simple_sigmoid(np.sum(np.multiply(x, W))) for x in X]\n",
    "    return px\n",
    "\n",
    "def binarize_values(Y, threshold=0.5):\n",
    "    Y_bin=[1 if y>=threshold else 0 for y in Y]\n",
    "    return Y_bin\n"
   ]
  },
  {
   "cell_type": "code",
   "execution_count": 4,
   "metadata": {},
   "outputs": [
    {
     "name": "stdout",
     "output_type": "stream",
     "text": [
      "0.45267643135815605\n",
      "0.45267643135815605\n"
     ]
    }
   ],
   "source": [
    "x=2\n",
    "b0, b1=-0.27830945,  0.04422344\n",
    "print(sigmoid(x, b0, b1))\n",
    "print(sigmoid_reformat(x, b0, b1))"
   ]
  },
  {
   "cell_type": "code",
   "execution_count": 5,
   "metadata": {},
   "outputs": [],
   "source": [
    "# features = ['Penicillin V Potassium 500 MG','Computed tomography of chest and abdomen','Plain chest X-ray (procedure)', 'Low Density Lipoprotein Cholesterol','Creatinine','AGE_DIAGNOSIS']\n",
    "# X,y=utils.loadDataset(features, split_percent=None, split_seed=42)"
   ]
  },
  {
   "cell_type": "code",
   "execution_count": 8,
   "metadata": {},
   "outputs": [],
   "source": [
    "X_train, X_val, y_train, y_val = utils.loadDataset(\n",
    "    features=[\n",
    "        'Penicillin V Potassium 500 MG',\n",
    "        'Computed tomography of chest and abdomen',\n",
    "        'Plain chest X-ray (procedure)',\n",
    "        'Low Density Lipoprotein Cholesterol',\n",
    "        'Creatinine',\n",
    "        'AGE_DIAGNOSIS'\n",
    "    ],\n",
    "    split_percent=0.8,\n",
    "    split_seed=42\n",
    ")\n",
    "\n",
    "sc = StandardScaler()\n",
    "X_train = sc.fit_transform(X_train)\n",
    "X_val = sc.transform(X_val)\n",
    "\n",
    "X_train = np.hstack([X_train, np.ones((X_train.shape[0], 1))])\n",
    "X_val = np.hstack([X_val, np.ones((X_val.shape[0], 1))])\n"
   ]
  },
  {
   "cell_type": "code",
   "execution_count": 9,
   "metadata": {},
   "outputs": [],
   "source": [
    "def make_prediction(X, W):\n",
    "    Z=[np.sum(np.multiply(x, W)) for x in X]\n",
    "    px=[1/(1+np.exp(-z)) for z in Z]\n",
    "    y_pred=[1 if y>=0.5 else 0 for y in px]\n",
    "    return np.array(y_pred)"
   ]
  },
  {
   "cell_type": "code",
   "execution_count": 10,
   "metadata": {},
   "outputs": [],
   "source": [
    "def loss_function(y_true, y_pred):\n",
    "    # py=sum(y_pred)/len(y_pred)\n",
    "    # Hy=[y*np.log(py)+(1-y)*np.log(1-py) for y in y_true]\n",
    "    # Hy=(-1/len(y_pred))*sum(Hy)\n",
    "    Hy=-np.mean(y_true*np.log((y_pred+0.0000001))+(1-y_true)*np.log(1-y_pred+0.0000001))\n",
    "    return Hy"
   ]
  },
  {
   "cell_type": "code",
   "execution_count": 11,
   "metadata": {},
   "outputs": [],
   "source": [
    "def calculate_gradient(y_true, X):\n",
    "    Z=[np.sum(np.multiply(x, W)) for x in X]\n",
    "    px=[1/(1+np.exp(-z)) for z in Z]\n",
    "    weight_gradient=np.dot(np.array([yhat-y for yhat, y in zip(px, y_true)]), X)\n",
    "    return weight_gradient"
   ]
  },
  {
   "cell_type": "code",
   "execution_count": 12,
   "metadata": {},
   "outputs": [],
   "source": [
    "num_feats=6\n",
    "W = np.random.randn(num_feats + 1).flatten()"
   ]
  },
  {
   "cell_type": "code",
   "execution_count": 13,
   "metadata": {},
   "outputs": [
    {
     "name": "stdout",
     "output_type": "stream",
     "text": [
      "0.6961298570673122\n"
     ]
    }
   ],
   "source": [
    "h=1/(1+np.exp(-X_train@W))\n",
    "c=1e-7\n",
    "y_pred=[1+c if y>=0.5 else 0+c for y in h]\n",
    "cost = (-1/len(y_train))*(np.transpose(y_train)@np.log(h) + np.transpose(1-y_train)@np.log(1-h))\n",
    "print(cost)"
   ]
  },
  {
   "cell_type": "code",
   "execution_count": 14,
   "metadata": {},
   "outputs": [
    {
     "name": "stdout",
     "output_type": "stream",
     "text": [
      "[-0.11130735 -0.28663323 -0.02501509  0.          0.         -0.06044528\n",
      "  0.0923136 ]\n"
     ]
    }
   ],
   "source": [
    "weight_gradient=X_train.T@(h-y_train)\n",
    "weight_gradient=(1/len(y_train))*weight_gradient\n",
    "print(weight_gradient)"
   ]
  },
  {
   "cell_type": "code",
   "execution_count": 15,
   "metadata": {},
   "outputs": [
    {
     "data": {
      "text/plain": [
       "array([0.76576551, 0.62898281, 0.92078433, ..., 0.62896169, 0.94810195,\n",
       "       0.88224003])"
      ]
     },
     "execution_count": 15,
     "metadata": {},
     "output_type": "execute_result"
    }
   ],
   "source": [
    "h"
   ]
  },
  {
   "cell_type": "code",
   "execution_count": 16,
   "metadata": {},
   "outputs": [
    {
     "data": {
      "text/plain": [
       "array([-178.09175701, -458.613163  ,  -40.02414387,    0.        ,\n",
       "          0.        ,  -96.71244488,  147.70176334])"
      ]
     },
     "execution_count": 16,
     "metadata": {},
     "output_type": "execute_result"
    }
   ],
   "source": [
    "calculate_gradient(y_train, X_train)"
   ]
  },
  {
   "cell_type": "code",
   "execution_count": 17,
   "metadata": {},
   "outputs": [
    {
     "data": {
      "text/plain": [
       "array([-178.09175701, -458.613163  ,  -40.02414387,    0.        ,\n",
       "          0.        ,  -96.71244488,  147.70176334])"
      ]
     },
     "execution_count": 17,
     "metadata": {},
     "output_type": "execute_result"
    }
   ],
   "source": [
    "Z=[np.sum(np.multiply(x, W)) for x in X_train]\n",
    "px=[1/(1+np.exp(-z)) for z in Z]\n",
    "(px-y_train) @ X_train\n"
   ]
  },
  {
   "cell_type": "code",
   "execution_count": 18,
   "metadata": {},
   "outputs": [
    {
     "data": {
      "text/plain": [
       "0.6961288262559485"
      ]
     },
     "execution_count": 18,
     "metadata": {},
     "output_type": "execute_result"
    }
   ],
   "source": [
    "Z=[np.sum(np.multiply(x, W)) for x in X_train]\n",
    "px=np.array([1/(1+np.exp(-z)) for z in Z])\n",
    "t = np.float_(y_train)\n",
    "p = np.float_(px)\n",
    "\n",
    "# y_pred=[1 if y>=0.5 else 0 for y in px]\n",
    "# t = np.float_(y_train)\n",
    "# p = np.float_(y_pred)\n",
    "\n",
    "\n",
    "# t = [0,1,1,0,0,1,1]\n",
    "# p = [0.07,0.91,0.74,0.23,0.85,0.17,0.94]\n",
    "# p=[0,1,1,0,0,1,1]\n",
    "t = np.float_(t)\n",
    "p = np.float_(p)\n",
    "\n",
    "\n",
    "-np.mean(t * np.log(p + 0.0000001) + (1 - t) * np.log(1 - p + 0.0000001))\n",
    "\n"
   ]
  },
  {
   "cell_type": "code",
   "execution_count": 19,
   "metadata": {},
   "outputs": [
    {
     "data": {
      "text/plain": [
       "array([0.76576551, 0.62898281, 0.92078433, ..., 0.62896169, 0.94810195,\n",
       "       0.88224003])"
      ]
     },
     "execution_count": 19,
     "metadata": {},
     "output_type": "execute_result"
    }
   ],
   "source": [
    "px"
   ]
  },
  {
   "cell_type": "code",
   "execution_count": 20,
   "metadata": {},
   "outputs": [
    {
     "data": {
      "text/plain": [
       "array([0.76576551, 0.62898281, 0.92078433, ..., 0.62896169, 0.94810195,\n",
       "       0.88224003])"
      ]
     },
     "execution_count": 20,
     "metadata": {},
     "output_type": "execute_result"
    }
   ],
   "source": [
    "h"
   ]
  },
  {
   "cell_type": "code",
   "execution_count": 21,
   "metadata": {},
   "outputs": [
    {
     "name": "stdout",
     "output_type": "stream",
     "text": [
      "6.336426413604715\n"
     ]
    }
   ],
   "source": [
    "y_pred=make_prediction(X_train, W)\n",
    "y_pred = np.clip(y_pred, 1e-7, 1 - 1e-7)\n",
    "Hy = -np.mean((1-y_train) * np.log(1-y_pred) + y_train * np.log(y_pred))\n",
    "print(Hy)"
   ]
  },
  {
   "cell_type": "code",
   "execution_count": 22,
   "metadata": {},
   "outputs": [
    {
     "data": {
      "text/plain": [
       "6.336426292095493"
      ]
     },
     "execution_count": 22,
     "metadata": {},
     "output_type": "execute_result"
    }
   ],
   "source": [
    "y_pred=make_prediction(X_train, W)\n",
    "loss_function(y_train, y_pred)\n"
   ]
  },
  {
   "cell_type": "code",
   "execution_count": 7,
   "metadata": {},
   "outputs": [
    {
     "ename": "NameError",
     "evalue": "name 'make_prediction' is not defined",
     "output_type": "error",
     "traceback": [
      "\u001b[1;31m---------------------------------------------------------------------------\u001b[0m",
      "\u001b[1;31mNameError\u001b[0m                                 Traceback (most recent call last)",
      "Cell \u001b[1;32mIn[7], line 3\u001b[0m\n\u001b[0;32m      1\u001b[0m num_feats\u001b[38;5;241m=\u001b[39m\u001b[38;5;241m6\u001b[39m\n\u001b[0;32m      2\u001b[0m W \u001b[38;5;241m=\u001b[39m np\u001b[38;5;241m.\u001b[39mrandom\u001b[38;5;241m.\u001b[39mrandn(num_feats \u001b[38;5;241m+\u001b[39m \u001b[38;5;241m1\u001b[39m)\u001b[38;5;241m.\u001b[39mflatten()\n\u001b[1;32m----> 3\u001b[0m y_pred\u001b[38;5;241m=\u001b[39m\u001b[43mmake_prediction\u001b[49m(X_train, W)\n\u001b[0;32m      4\u001b[0m \u001b[38;5;66;03m# loss_function(y_train, y_pred)\u001b[39;00m\n\u001b[0;32m      5\u001b[0m Z\u001b[38;5;241m=\u001b[39m[np\u001b[38;5;241m.\u001b[39msum(np\u001b[38;5;241m.\u001b[39mmultiply(x, W)) \u001b[38;5;28;01mfor\u001b[39;00m x \u001b[38;5;129;01min\u001b[39;00m X_train]\n",
      "\u001b[1;31mNameError\u001b[0m: name 'make_prediction' is not defined"
     ]
    }
   ],
   "source": [
    "num_feats=6\n",
    "W = np.random.randn(num_feats + 1).flatten()\n",
    "y_pred=make_prediction(X_train, W)\n",
    "# loss_function(y_train, y_pred)\n",
    "Z=[np.sum(np.multiply(x, W)) for x in X_train]\n",
    "px=np.array([1/(1+np.exp(-z)) for z in Z])\n",
    "-np.mean(y_train*np.log(px)+(1-y_train)*np.log(1-px))\n"
   ]
  },
  {
   "cell_type": "code",
   "execution_count": 38,
   "metadata": {},
   "outputs": [
    {
     "data": {
      "image/png": "[encoded data removed]",
      "text/plain": [
       "<Figure size 800x800 with 2 Axes>"
      ]
     },
     "metadata": {},
     "output_type": "display_data"
    }
   ],
   "source": [
    "\n",
    "# Load data\n",
    "X_train, X_val, y_train, y_val = utils.loadDataset(\n",
    "    features=[\n",
    "        'Penicillin V Potassium 500 MG',\n",
    "        'Computed tomography of chest and abdomen',\n",
    "        'Plain chest X-ray (procedure)',\n",
    "        'Low Density Lipoprotein Cholesterol',\n",
    "        'Creatinine',\n",
    "        'AGE_DIAGNOSIS'\n",
    "    ],\n",
    "    split_percent=0.8,\n",
    "    split_seed=42\n",
    ")\n",
    "\n",
    "# Scale the data, since values vary across feature. Note that we\n",
    "# fit on the training data and use the same scaler for X_val.\n",
    "sc = StandardScaler()\n",
    "X_train = sc.fit_transform(X_train)\n",
    "X_val = sc.transform(X_val)\n",
    "\n",
    "# For testing purposes, once you've added your code.\n",
    "# CAUTION: hyperparameters have not been optimized.\n",
    "log_model = logreg.LogisticRegressor(num_feats=6, learning_rate=0.1, tol=0.01, max_iter=10000, batch_size=10)\n",
    "log_model.train_model(X_train, y_train, X_val, y_val)\n",
    "log_model.plot_loss_history()\n"
   ]
  },
  {
   "cell_type": "code",
   "execution_count": 7,
   "metadata": {},
   "outputs": [],
   "source": [
    "log_model.reset_model()"
   ]
  },
  {
   "cell_type": "code",
   "execution_count": null,
   "metadata": {},
   "outputs": [],
   "source": []
  }
 ],
 "metadata": {
  "kernelspec": {
   "display_name": "Python 3",
   "language": "python",
   "name": "python3"
  },
  "language_info": {
   "codemirror_mode": {
    "name": "ipython",
    "version": 3
   },
   "file_extension": ".py",
   "mimetype": "text/x-python",
   "name": "python",
   "nbconvert_exporter": "python",
   "pygments_lexer": "ipython3",
   "version": "3.10.1"
  }
 },
 "nbformat": 4,
 "nbformat_minor": 2
}
