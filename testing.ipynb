{
 "cells": [
  {
   "cell_type": "code",
   "execution_count": 1,
   "metadata": {},
   "outputs": [
    {
     "name": "stderr",
     "output_type": "stream",
     "text": [
      "C:\\Users\\chati\\AppData\\Local\\Temp\\ipykernel_35720\\310087221.py:2: DeprecationWarning: \n",
      "Pyarrow will become a required dependency of pandas in the next major release of pandas (pandas 3.0),\n",
      "(to allow more performant data types, such as the Arrow string type, and better interoperability with other libraries)\n",
      "but was not found to be installed on your system.\n",
      "If this would cause problems for you,\n",
      "please provide us feedback at https://github.com/pandas-dev/pandas/issues/54466\n",
      "        \n",
      "  import pandas as pd\n"
     ]
    }
   ],
   "source": [
    "import numpy as np\n",
    "import pandas as pd\n",
    "from collections import Counter\n",
    "from regression import (logreg, utils)\n",
    "from sklearn.preprocessing import StandardScaler\n",
    "from sklearn.metrics import log_loss"
   ]
  },
  {
   "cell_type": "markdown",
   "metadata": {},
   "source": [
    "#### Testing logreg.py implementation"
   ]
  },
  {
   "cell_type": "markdown",
   "metadata": {},
   "source": [
    "test_prediction"
   ]
  },
  {
   "cell_type": "code",
   "execution_count": 137,
   "metadata": {},
   "outputs": [],
   "source": [
    "# initialize\n",
    "log_model=logreg.LogisticRegressor(num_feats=3, learning_rate=0.1, tol=0.01, max_iter=10000, batch_size=10)"
   ]
  },
  {
   "cell_type": "code",
   "execution_count": 138,
   "metadata": {},
   "outputs": [],
   "source": [
    "# get a set of weights and the x_vector, assign these manually\n",
    "# weights=np.array([-1.41243788, -0.18130843,  1.3722178 ,  0.95750598]) # derived from W = np.random.randn(num_feats + 1).flatten(); num_feats=3\n",
    "weights=log_model.W # get array of weights, which are randomly generated in the model\n",
    "x_vector=np.array([-0.1536077, -0.73873096, 0.69515697, 1]) # manually set x_vector\n",
    "# x_vector=np.array([0, 0, 0, 0]) # manually set x_vector - at all zeroes, we get 0.5"
   ]
  },
  {
   "cell_type": "code",
   "execution_count": 139,
   "metadata": {},
   "outputs": [
    {
     "data": {
      "text/plain": [
       "0.3056115460272269"
      ]
     },
     "execution_count": 139,
     "metadata": {},
     "output_type": "execute_result"
    }
   ],
   "source": [
    "log_model.make_prediction(x_vector)"
   ]
  },
  {
   "cell_type": "code",
   "execution_count": 140,
   "metadata": {},
   "outputs": [
    {
     "data": {
      "text/plain": [
       "0.3056115460272269"
      ]
     },
     "execution_count": 140,
     "metadata": {},
     "output_type": "execute_result"
    }
   ],
   "source": [
    "# manually compute that make predictions is returning the sigmoid transformation of the linear combination between the x_vector and weights\n",
    "z=sum(np.multiply(weights, x_vector))\n",
    "predicted_prob=1/(1+np.exp(-z))\n",
    "predicted_prob"
   ]
  },
  {
   "cell_type": "code",
   "execution_count": 113,
   "metadata": {},
   "outputs": [],
   "source": []
  },
  {
   "cell_type": "code",
   "execution_count": null,
   "metadata": {},
   "outputs": [],
   "source": []
  },
  {
   "cell_type": "markdown",
   "metadata": {},
   "source": [
    "test_loss_function"
   ]
  },
  {
   "cell_type": "code",
   "execution_count": 141,
   "metadata": {},
   "outputs": [],
   "source": [
    "# compare our loss function to sklearn's loss function\n",
    "\n",
    "# create manual dataset; data from https://www.pinecone.io/learn/cross-entropy-loss/\n",
    "y_true=np.array([0,1,1,0,0,1,1])\n",
    "y_pred=np.array([0.07,0.91,0.74,0.23,0.85,0.17,0.94])\n"
   ]
  },
  {
   "cell_type": "code",
   "execution_count": 142,
   "metadata": {},
   "outputs": [],
   "source": [
    "# initialize\n",
    "log_model=logreg.LogisticRegressor(num_feats=3, learning_rate=0.1, tol=0.01, max_iter=10000, batch_size=10)"
   ]
  },
  {
   "cell_type": "code",
   "execution_count": 143,
   "metadata": {},
   "outputs": [
    {
     "name": "stdout",
     "output_type": "stream",
     "text": [
      "0.6371862085371784\n",
      "0.6371862085371784\n"
     ]
    }
   ],
   "source": [
    "print(log_loss(y_true, y_pred))\n",
    "print(log_model.loss_function(y_true, y_pred))\n"
   ]
  },
  {
   "cell_type": "markdown",
   "metadata": {},
   "source": [
    "test_gradient"
   ]
  },
  {
   "cell_type": "code",
   "execution_count": null,
   "metadata": {},
   "outputs": [],
   "source": [
    "# test dimensions of gradient"
   ]
  },
  {
   "cell_type": "code",
   "execution_count": 161,
   "metadata": {},
   "outputs": [],
   "source": [
    "# initialize\n",
    "log_model=logreg.LogisticRegressor(num_feats=2, learning_rate=0.1, tol=0.01, max_iter=10000, batch_size=10)"
   ]
  },
  {
   "cell_type": "code",
   "execution_count": 195,
   "metadata": {},
   "outputs": [],
   "source": [
    "# get initialized weights from our model and manually generate x_vector\n",
    "weights=log_model.W # get array of weights, which are randomly generated in the model\n",
    "x_vector=np.array([[-0.1536077, 0.69515697, 1], \n",
    "                   [-0.534536, 0.034259, 1]]) # manually set x_vector\n",
    "# x_vector=np.array([[0, 0, 1], \n",
    "#                    [0, 0, 1]]) # manually set x_vector\n",
    "\n",
    "y_true=np.array([1, 0]) # define "
   ]
  },
  {
   "cell_type": "code",
   "execution_count": 196,
   "metadata": {},
   "outputs": [
    {
     "name": "stdout",
     "output_type": "stream",
     "text": [
      "[0. 0. 0.]\n",
      "[0. 0. 0.]\n"
     ]
    }
   ],
   "source": [
    "# manually compute weight gradient\n",
    "z=np.sum(np.multiply(weights, x_vector), axis=1)\n",
    "y_pred=1/(1+np.exp(-z))\n",
    "difference=y_pred-y_true\n",
    "dot_out=np.dot(difference, x_vector)\n",
    "weight_gradient=(1/len(y_true))*(dot_out)\n",
    "print(weight_gradient)\n",
    "print(log_model.calculate_gradient(y_true, x_vector))"
   ]
  },
  {
   "cell_type": "markdown",
   "metadata": {},
   "source": [
    "test_training"
   ]
  },
  {
   "cell_type": "code",
   "execution_count": 5,
   "metadata": {},
   "outputs": [],
   "source": [
    "# Load data\n",
    "X_train, X_val, y_train, y_val = utils.loadDataset(\n",
    "    features=[\n",
    "        'Penicillin V Potassium 500 MG',\n",
    "        'Computed tomography of chest and abdomen',\n",
    "        'Plain chest X-ray (procedure)',\n",
    "        'Low Density Lipoprotein Cholesterol',\n",
    "        'Creatinine',\n",
    "        'AGE_DIAGNOSIS'\n",
    "    ],\n",
    "    split_percent=0.8,\n",
    "    split_seed=42\n",
    ")\n",
    "\n",
    "# Scale the data, since values vary across feature. Note that we\n",
    "# fit on the training data and use the same scaler for X_val.\n",
    "sc = StandardScaler()\n",
    "X_train = sc.fit_transform(X_train)\n",
    "X_val = sc.transform(X_val)\n",
    "\n",
    "# initialize model and train\n",
    "log_model = logreg.LogisticRegressor(num_feats=6, learning_rate=0.1, tol=0.01, max_iter=10000, batch_size=10)\n",
    "log_model.train_model(X_train, y_train, X_val, y_val)\n",
    "\n",
    "# get history of weights \n",
    "weight_hist=np.array(log_model.weight_hist)\n",
    "\n",
    "# get all adjacent pairs of indices within our weight history, we are aiming to compare each weight vector with the next vector to see if they are different (indicating that they are updating during training)\n",
    "pairs=[(i,i+1) for i in range(len(weight_hist)) if (i+1<len(weight_hist))]\n",
    "\n",
    "# check if the next array is equal for set of all weights (should be all False)\n",
    "updating_weight_hist=[np.array_equal(weight_hist[p[0]], weight_hist[p[1]]) for p in pairs]\n",
    "\n",
    "# check that our array contains only false\n",
    "not any(updating_weight_hist)\n"
   ]
  },
  {
   "cell_type": "markdown",
   "metadata": {},
   "source": [
    "#### Random function testing"
   ]
  },
  {
   "cell_type": "code",
   "execution_count": 93,
   "metadata": {},
   "outputs": [],
   "source": [
    "num_feats=6\n",
    "W = np.random.randn(num_feats + 1).flatten()"
   ]
  },
  {
   "cell_type": "code",
   "execution_count": 94,
   "metadata": {},
   "outputs": [],
   "source": [
    "def sigmoid(x, b0, b1):\n",
    "    z=b0 + b1*x\n",
    "    return 1/(1+np.exp(-z))\n",
    "\n",
    "def sigmoid_reformat(x, b0, b1):\n",
    "    z=b0 + b1*x\n",
    "    return np.exp(z)/(1+np.exp(z))\n",
    "\n",
    "def simple_sigmoid(z):\n",
    "    return 1/(1+np.exp(-z))\n",
    "\n",
    "# takes in matrix of features where rows represent samples and columns represent features and computes the sigmoidal output for each (probability of each sample)\n",
    "def multivar_sigmoid(X, W):\n",
    "    px=[simple_sigmoid(np.sum(np.multiply(x, W))) for x in X]\n",
    "    return px\n",
    "\n",
    "def binarize_values(Y, threshold=0.5):\n",
    "    Y_bin=[1 if y>=threshold else 0 for y in Y]\n",
    "    return Y_bin\n"
   ]
  },
  {
   "cell_type": "code",
   "execution_count": 95,
   "metadata": {},
   "outputs": [
    {
     "name": "stdout",
     "output_type": "stream",
     "text": [
      "0.45267643135815605\n",
      "0.45267643135815605\n"
     ]
    }
   ],
   "source": [
    "x=2\n",
    "b0, b1=-0.27830945,  0.04422344\n",
    "print(sigmoid(x, b0, b1))\n",
    "print(sigmoid_reformat(x, b0, b1))"
   ]
  },
  {
   "cell_type": "code",
   "execution_count": 96,
   "metadata": {},
   "outputs": [],
   "source": [
    "# features = ['Penicillin V Potassium 500 MG','Computed tomography of chest and abdomen','Plain chest X-ray (procedure)', 'Low Density Lipoprotein Cholesterol','Creatinine','AGE_DIAGNOSIS']\n",
    "# X,y=utils.loadDataset(features, split_percent=None, split_seed=42)"
   ]
  },
  {
   "cell_type": "code",
   "execution_count": 97,
   "metadata": {},
   "outputs": [],
   "source": [
    "X_train, X_val, y_train, y_val = utils.loadDataset(\n",
    "    features=[\n",
    "        'Penicillin V Potassium 500 MG',\n",
    "        'Computed tomography of chest and abdomen',\n",
    "        'Plain chest X-ray (procedure)',\n",
    "        'Low Density Lipoprotein Cholesterol',\n",
    "        'Creatinine',\n",
    "        'AGE_DIAGNOSIS'\n",
    "    ],\n",
    "    split_percent=0.8,\n",
    "    split_seed=42\n",
    ")\n",
    "\n",
    "sc = StandardScaler()\n",
    "X_train = sc.fit_transform(X_train)\n",
    "X_val = sc.transform(X_val)\n",
    "\n",
    "X_train = np.hstack([X_train, np.ones((X_train.shape[0], 1))])\n",
    "X_val = np.hstack([X_val, np.ones((X_val.shape[0], 1))])\n"
   ]
  },
  {
   "cell_type": "code",
   "execution_count": 98,
   "metadata": {},
   "outputs": [],
   "source": [
    "def make_prediction(X, W):\n",
    "    # Z=[np.sum(np.multiply(x, W)) for x in X]\n",
    "    # px=[1/(1+np.exp(-z)) for z in Z]\n",
    "    # y_pred=[1 if y>=0.5 else 0 for y in px]\n",
    "    # return np.array(y_pred)\n",
    "    y_pred=1/(1+np.exp(-X@W))\n",
    "    return y_pred\n"
   ]
  },
  {
   "cell_type": "code",
   "execution_count": 99,
   "metadata": {},
   "outputs": [],
   "source": [
    "def loss_function(y_true, y_pred):\n",
    "    # py=sum(y_pred)/len(y_pred)\n",
    "    # Hy=[y*np.log(py)+(1-y)*np.log(1-py) for y in y_true]\n",
    "    # Hy=(-1/len(y_pred))*sum(Hy)\n",
    "    # Hy=-np.mean(y_true*np.log((y_pred+0.0000001))+(1-y_true)*np.log(1-y_pred+0.0000001))\n",
    "    Hy=(-1/len(y_true))*(np.transpose(y_true)@np.log(y_pred) + np.transpose(1-y_true)@np.log(1-y_pred))\n",
    "    return Hy"
   ]
  },
  {
   "cell_type": "code",
   "execution_count": 100,
   "metadata": {},
   "outputs": [],
   "source": [
    "def calculate_gradient(y_true, X):\n",
    "    Z=[np.sum(np.multiply(x, W)) for x in X]\n",
    "    px=[1/(1+np.exp(-z)) for z in Z]\n",
    "    weight_gradient=np.dot(np.array([yhat-y for yhat, y in zip(px, y_true)]), X)\n",
    "    return weight_gradient"
   ]
  },
  {
   "cell_type": "code",
   "execution_count": 101,
   "metadata": {},
   "outputs": [],
   "source": [
    "num_feats=6\n",
    "W = np.random.randn(num_feats + 1).flatten()"
   ]
  },
  {
   "cell_type": "code",
   "execution_count": 102,
   "metadata": {},
   "outputs": [
    {
     "name": "stdout",
     "output_type": "stream",
     "text": [
      "1.2216554416706782\n"
     ]
    }
   ],
   "source": [
    "h=1/(1+np.exp(-X_train@W))\n",
    "c=1e-7\n",
    "y_pred=[1+c if y>=0.5 else 0+c for y in h]\n",
    "cost = (-1/len(y_train))*(np.transpose(y_train)@np.log(h) + np.transpose(1-y_train)@np.log(1-h))\n",
    "print(cost)"
   ]
  },
  {
   "cell_type": "code",
   "execution_count": 103,
   "metadata": {},
   "outputs": [
    {
     "name": "stdout",
     "output_type": "stream",
     "text": [
      "[-0.0434792  -0.33376734 -0.24203815  0.          0.         -0.05563556\n",
      " -0.24411354]\n"
     ]
    }
   ],
   "source": [
    "weight_gradient=X_train.T@(h-y_train)\n",
    "weight_gradient=(1/len(y_train))*weight_gradient\n",
    "print(weight_gradient)"
   ]
  },
  {
   "cell_type": "code",
   "execution_count": 104,
   "metadata": {},
   "outputs": [
    {
     "data": {
      "text/plain": [
       "array([ -69.56671993, -534.02774624, -387.26104058,    0.        ,\n",
       "          0.        ,  -89.01689485, -390.58167111])"
      ]
     },
     "execution_count": 104,
     "metadata": {},
     "output_type": "execute_result"
    }
   ],
   "source": [
    "Z=[np.sum(np.multiply(x, W)) for x in X_train]\n",
    "px=[1/(1+np.exp(-z)) for z in Z]\n",
    "(px-y_train) @ X_train\n"
   ]
  },
  {
   "cell_type": "code",
   "execution_count": 105,
   "metadata": {},
   "outputs": [
    {
     "data": {
      "text/plain": [
       "0.6371862085371784"
      ]
     },
     "execution_count": 105,
     "metadata": {},
     "output_type": "execute_result"
    }
   ],
   "source": [
    "# reference for testing: https://www.pinecone.io/learn/cross-entropy-loss/\n",
    "Z=[np.sum(np.multiply(x, W)) for x in X_train]\n",
    "px=np.array([1/(1+np.exp(-z)) for z in Z])\n",
    "t = np.float_(y_train)\n",
    "p = np.float_(px)\n",
    "\n",
    "# y_pred=[1 if y>=0.5 else 0 for y in px]\n",
    "# t = np.float_(y_train)\n",
    "# p = np.float_(y_pred)\n",
    "-np.mean(t * np.log(p + 0.0000001) + (1 - t) * np.log(1 - p + 0.0000001))\n",
    "\n",
    "\n",
    "t = [0,1,1,0,0,1,1]\n",
    "p = [0.07,0.91,0.74,0.23,0.85,0.17,0.94]\n",
    "# p=[0,1,1,0,0,1,1]\n",
    "t = np.float_(t)\n",
    "p = np.float_(p)\n",
    "\n",
    "-np.mean(t * np.log(p) + (1 - t) * np.log(1 - p))\n",
    "\n",
    "\n",
    "\n"
   ]
  },
  {
   "cell_type": "code",
   "execution_count": 107,
   "metadata": {},
   "outputs": [
    {
     "name": "stdout",
     "output_type": "stream",
     "text": [
      "0.6371862085371784\n",
      "0.6371862085371784\n"
     ]
    }
   ],
   "source": [
    "\n",
    "t = np.array([0,1,1,0,0,1,1])\n",
    "p = np.array([0.07,0.91,0.74,0.23,0.85,0.17,0.94])\n",
    "print(log_loss(t, p, normalize=True))\n",
    "print(loss_function(t, p))\n"
   ]
  },
  {
   "cell_type": "code",
   "execution_count": 108,
   "metadata": {},
   "outputs": [
    {
     "name": "stdout",
     "output_type": "stream",
     "text": [
      "1.221655441670678\n",
      "1.2216554416706782\n"
     ]
    }
   ],
   "source": [
    "y_pred=make_prediction(X_train, W)\n",
    "print(log_loss(y_train, y_pred, normalize=True))\n",
    "print(loss_function(y_train, y_pred))\n"
   ]
  },
  {
   "cell_type": "code",
   "execution_count": 109,
   "metadata": {},
   "outputs": [],
   "source": [
    "# https://stackoverflow.com/questions/67615051/implementing-binary-cross-entropy-loss-gives-different-answer-than-tensorflows\n",
    "y_pred=make_prediction(X_train, W)\n",
    "y_pred = np.clip(y_pred, 1e-7, 1 - 1e-7)\n",
    "Hy = -np.mean((1-y_train) * np.log(1-y_pred) + y_train * np.log(y_pred))\n",
    "print(Hy)"
   ]
  },
  {
   "cell_type": "code",
   "execution_count": 81,
   "metadata": {},
   "outputs": [
    {
     "name": "stdout",
     "output_type": "stream",
     "text": [
      "0.758595289762377\n"
     ]
    }
   ],
   "source": []
  },
  {
   "cell_type": "code",
   "execution_count": 74,
   "metadata": {},
   "outputs": [
    {
     "data": {
      "text/plain": [
       "0.7585950417269135"
      ]
     },
     "execution_count": 74,
     "metadata": {},
     "output_type": "execute_result"
    }
   ],
   "source": [
    "y_pred=make_prediction(X_train, W)\n",
    "loss_function(y_train, y_pred)\n"
   ]
  },
  {
   "cell_type": "code",
   "execution_count": 82,
   "metadata": {},
   "outputs": [
    {
     "data": {
      "text/plain": [
       "0.758595289762377"
      ]
     },
     "execution_count": 82,
     "metadata": {},
     "output_type": "execute_result"
    }
   ],
   "source": [
    "y_pred=make_prediction(X_train, W)\n",
    "(log_loss(y_train, y_pred, normalize=False))/len(y_train)"
   ]
  },
  {
   "cell_type": "code",
   "execution_count": 83,
   "metadata": {},
   "outputs": [
    {
     "data": {
      "text/plain": [
       "1.0649528681722404"
      ]
     },
     "execution_count": 83,
     "metadata": {},
     "output_type": "execute_result"
    }
   ],
   "source": [
    "num_feats=6\n",
    "W = np.random.randn(num_feats + 1).flatten()\n",
    "y_pred=make_prediction(X_train, W)\n",
    "# loss_function(y_train, y_pred)\n",
    "Z=[np.sum(np.multiply(x, W)) for x in X_train]\n",
    "px=np.array([1/(1+np.exp(-z)) for z in Z])\n",
    "-np.mean(y_train*np.log(px)+(1-y_train)*np.log(1-px))\n"
   ]
  },
  {
   "cell_type": "code",
   "execution_count": 4,
   "metadata": {},
   "outputs": [
    {
     "data": {
      "image/png": "[encoded data removed]",
      "text/plain": [
       "<Figure size 800x800 with 2 Axes>"
      ]
     },
     "metadata": {},
     "output_type": "display_data"
    }
   ],
   "source": [
    "\n",
    "# Load data\n",
    "X_train, X_val, y_train, y_val = utils.loadDataset(\n",
    "    features=[\n",
    "        'Penicillin V Potassium 500 MG',\n",
    "        'Computed tomography of chest and abdomen',\n",
    "        'Plain chest X-ray (procedure)',\n",
    "        'Low Density Lipoprotein Cholesterol',\n",
    "        'Creatinine',\n",
    "        'AGE_DIAGNOSIS'\n",
    "    ],\n",
    "    split_percent=0.8,\n",
    "    split_seed=42\n",
    ")\n",
    "\n",
    "# Scale the data, since values vary across feature. Note that we\n",
    "# fit on the training data and use the same scaler for X_val.\n",
    "sc = StandardScaler()\n",
    "X_train = sc.fit_transform(X_train)\n",
    "X_val = sc.transform(X_val)\n",
    "\n",
    "# For testing purposes, once you've added your code.\n",
    "# CAUTION: hyperparameters have not been optimized.\n",
    "log_model = logreg.LogisticRegressor(num_feats=6, learning_rate=0.1, tol=0.01, max_iter=10000, batch_size=10)\n",
    "log_model.train_model(X_train, y_train, X_val, y_val)\n",
    "log_model.plot_loss_history()\n"
   ]
  },
  {
   "cell_type": "code",
   "execution_count": 7,
   "metadata": {},
   "outputs": [],
   "source": [
    "log_model.reset_model()"
   ]
  },
  {
   "cell_type": "code",
   "execution_count": null,
   "metadata": {},
   "outputs": [],
   "source": []
  }
 ],
 "metadata": {
  "kernelspec": {
   "display_name": "Python 3",
   "language": "python",
   "name": "python3"
  },
  "language_info": {
   "codemirror_mode": {
    "name": "ipython",
    "version": 3
   },
   "file_extension": ".py",
   "mimetype": "text/x-python",
   "name": "python",
   "nbconvert_exporter": "python",
   "pygments_lexer": "ipython3",
   "version": "3.10.1"
  }
 },
 "nbformat": 4,
 "nbformat_minor": 2
}
